{
 "cells": [
  {
   "cell_type": "code",
   "execution_count": 1,
   "id": "7d979527",
   "metadata": {},
   "outputs": [],
   "source": [
    "import pandas as pd\n",
    "import matplotlib.pyplot as plt"
   ]
  },
  {
   "cell_type": "code",
   "execution_count": 2,
   "id": "835e247e",
   "metadata": {},
   "outputs": [],
   "source": [
    "df=pd.read_csv(r'C:\\Users\\saura\\Downloads\\P6-EuroDebtCrisis.csv')"
   ]
  },
  {
   "cell_type": "code",
   "execution_count": 3,
   "id": "cf687b97",
   "metadata": {},
   "outputs": [
    {
     "data": {
      "text/html": [
       "<div>\n",
       "<style scoped>\n",
       "    .dataframe tbody tr th:only-of-type {\n",
       "        vertical-align: middle;\n",
       "    }\n",
       "\n",
       "    .dataframe tbody tr th {\n",
       "        vertical-align: top;\n",
       "    }\n",
       "\n",
       "    .dataframe thead th {\n",
       "        text-align: right;\n",
       "    }\n",
       "</style>\n",
       "<table border=\"1\" class=\"dataframe\">\n",
       "  <thead>\n",
       "    <tr style=\"text-align: right;\">\n",
       "      <th></th>\n",
       "      <th>Creditor</th>\n",
       "      <th>Debtor</th>\n",
       "      <th>Amount</th>\n",
       "      <th>Risk</th>\n",
       "    </tr>\n",
       "  </thead>\n",
       "  <tbody>\n",
       "    <tr>\n",
       "      <th>0</th>\n",
       "      <td>Japan</td>\n",
       "      <td>United States</td>\n",
       "      <td>796.00</td>\n",
       "      <td>Stable</td>\n",
       "    </tr>\n",
       "    <tr>\n",
       "      <th>1</th>\n",
       "      <td>France</td>\n",
       "      <td>Italy</td>\n",
       "      <td>366.00</td>\n",
       "      <td>High Risk</td>\n",
       "    </tr>\n",
       "    <tr>\n",
       "      <th>2</th>\n",
       "      <td>Britain</td>\n",
       "      <td>United States</td>\n",
       "      <td>345.00</td>\n",
       "      <td>Stable</td>\n",
       "    </tr>\n",
       "    <tr>\n",
       "      <th>3</th>\n",
       "      <td>Spain</td>\n",
       "      <td>Britain</td>\n",
       "      <td>326.00</td>\n",
       "      <td>Stable</td>\n",
       "    </tr>\n",
       "    <tr>\n",
       "      <th>4</th>\n",
       "      <td>Germany</td>\n",
       "      <td>United States</td>\n",
       "      <td>324.00</td>\n",
       "      <td>Stable</td>\n",
       "    </tr>\n",
       "    <tr>\n",
       "      <th>5</th>\n",
       "      <td>France</td>\n",
       "      <td>United States</td>\n",
       "      <td>322.00</td>\n",
       "      <td>Stable</td>\n",
       "    </tr>\n",
       "    <tr>\n",
       "      <th>6</th>\n",
       "      <td>Germany</td>\n",
       "      <td>Britain</td>\n",
       "      <td>321.00</td>\n",
       "      <td>Stable</td>\n",
       "    </tr>\n",
       "    <tr>\n",
       "      <th>7</th>\n",
       "      <td>Spain</td>\n",
       "      <td>United States</td>\n",
       "      <td>163.00</td>\n",
       "      <td>Stable</td>\n",
       "    </tr>\n",
       "    <tr>\n",
       "      <th>8</th>\n",
       "      <td>France</td>\n",
       "      <td>Spain</td>\n",
       "      <td>118.00</td>\n",
       "      <td>Medium Risk</td>\n",
       "    </tr>\n",
       "    <tr>\n",
       "      <th>9</th>\n",
       "      <td>Italy</td>\n",
       "      <td>Germany</td>\n",
       "      <td>111.00</td>\n",
       "      <td>Stable</td>\n",
       "    </tr>\n",
       "    <tr>\n",
       "      <th>10</th>\n",
       "      <td>Japan</td>\n",
       "      <td>Germany</td>\n",
       "      <td>88.50</td>\n",
       "      <td>Stable</td>\n",
       "    </tr>\n",
       "    <tr>\n",
       "      <th>11</th>\n",
       "      <td>Spain</td>\n",
       "      <td>Portugal</td>\n",
       "      <td>62.00</td>\n",
       "      <td>High Risk</td>\n",
       "    </tr>\n",
       "    <tr>\n",
       "      <th>12</th>\n",
       "      <td>Germany</td>\n",
       "      <td>Spain</td>\n",
       "      <td>57.60</td>\n",
       "      <td>Medium Risk</td>\n",
       "    </tr>\n",
       "    <tr>\n",
       "      <th>13</th>\n",
       "      <td>France</td>\n",
       "      <td>Greece</td>\n",
       "      <td>53.90</td>\n",
       "      <td>High Risk</td>\n",
       "    </tr>\n",
       "    <tr>\n",
       "      <th>14</th>\n",
       "      <td>France</td>\n",
       "      <td>Germany</td>\n",
       "      <td>53.80</td>\n",
       "      <td>Stable</td>\n",
       "    </tr>\n",
       "    <tr>\n",
       "      <th>15</th>\n",
       "      <td>Germany</td>\n",
       "      <td>Ireland</td>\n",
       "      <td>48.90</td>\n",
       "      <td>High Risk</td>\n",
       "    </tr>\n",
       "    <tr>\n",
       "      <th>16</th>\n",
       "      <td>Japan</td>\n",
       "      <td>Italy</td>\n",
       "      <td>38.80</td>\n",
       "      <td>High Risk</td>\n",
       "    </tr>\n",
       "    <tr>\n",
       "      <th>17</th>\n",
       "      <td>Germany</td>\n",
       "      <td>Portugal</td>\n",
       "      <td>32.50</td>\n",
       "      <td>High Risk</td>\n",
       "    </tr>\n",
       "    <tr>\n",
       "      <th>18</th>\n",
       "      <td>Japan</td>\n",
       "      <td>Britain</td>\n",
       "      <td>28.20</td>\n",
       "      <td>Stable</td>\n",
       "    </tr>\n",
       "    <tr>\n",
       "      <th>19</th>\n",
       "      <td>Britain</td>\n",
       "      <td>Italy</td>\n",
       "      <td>26.00</td>\n",
       "      <td>High Risk</td>\n",
       "    </tr>\n",
       "    <tr>\n",
       "      <th>20</th>\n",
       "      <td>Japan</td>\n",
       "      <td>Spain</td>\n",
       "      <td>25.90</td>\n",
       "      <td>Medium Risk</td>\n",
       "    </tr>\n",
       "    <tr>\n",
       "      <th>21</th>\n",
       "      <td>Britain</td>\n",
       "      <td>France</td>\n",
       "      <td>22.40</td>\n",
       "      <td>Low Risk</td>\n",
       "    </tr>\n",
       "    <tr>\n",
       "      <th>22</th>\n",
       "      <td>Britain</td>\n",
       "      <td>Portugal</td>\n",
       "      <td>19.40</td>\n",
       "      <td>High Risk</td>\n",
       "    </tr>\n",
       "    <tr>\n",
       "      <th>23</th>\n",
       "      <td>Germany</td>\n",
       "      <td>Greece</td>\n",
       "      <td>19.30</td>\n",
       "      <td>High Risk</td>\n",
       "    </tr>\n",
       "    <tr>\n",
       "      <th>24</th>\n",
       "      <td>Japan</td>\n",
       "      <td>Ireland</td>\n",
       "      <td>18.90</td>\n",
       "      <td>High Risk</td>\n",
       "    </tr>\n",
       "    <tr>\n",
       "      <th>25</th>\n",
       "      <td>France</td>\n",
       "      <td>Portugal</td>\n",
       "      <td>18.30</td>\n",
       "      <td>High Risk</td>\n",
       "    </tr>\n",
       "    <tr>\n",
       "      <th>26</th>\n",
       "      <td>France</td>\n",
       "      <td>Ireland</td>\n",
       "      <td>17.30</td>\n",
       "      <td>High Risk</td>\n",
       "    </tr>\n",
       "    <tr>\n",
       "      <th>27</th>\n",
       "      <td>Ireland</td>\n",
       "      <td>Britain</td>\n",
       "      <td>12.00</td>\n",
       "      <td>Stable</td>\n",
       "    </tr>\n",
       "    <tr>\n",
       "      <th>28</th>\n",
       "      <td>United States</td>\n",
       "      <td>Ireland</td>\n",
       "      <td>11.10</td>\n",
       "      <td>High Risk</td>\n",
       "    </tr>\n",
       "    <tr>\n",
       "      <th>29</th>\n",
       "      <td>Portugal</td>\n",
       "      <td>Greece</td>\n",
       "      <td>10.10</td>\n",
       "      <td>High Risk</td>\n",
       "    </tr>\n",
       "    <tr>\n",
       "      <th>30</th>\n",
       "      <td>Spain</td>\n",
       "      <td>Italy</td>\n",
       "      <td>9.79</td>\n",
       "      <td>High Risk</td>\n",
       "    </tr>\n",
       "    <tr>\n",
       "      <th>31</th>\n",
       "      <td>France</td>\n",
       "      <td>Japan</td>\n",
       "      <td>7.73</td>\n",
       "      <td>Stable</td>\n",
       "    </tr>\n",
       "    <tr>\n",
       "      <th>32</th>\n",
       "      <td>Ireland</td>\n",
       "      <td>Spain</td>\n",
       "      <td>6.38</td>\n",
       "      <td>Medium Risk</td>\n",
       "    </tr>\n",
       "    <tr>\n",
       "      <th>33</th>\n",
       "      <td>Portugal</td>\n",
       "      <td>Ireland</td>\n",
       "      <td>3.77</td>\n",
       "      <td>High Risk</td>\n",
       "    </tr>\n",
       "    <tr>\n",
       "      <th>34</th>\n",
       "      <td>Italy</td>\n",
       "      <td>Greece</td>\n",
       "      <td>3.22</td>\n",
       "      <td>High Risk</td>\n",
       "    </tr>\n",
       "    <tr>\n",
       "      <th>35</th>\n",
       "      <td>United States</td>\n",
       "      <td>Italy</td>\n",
       "      <td>3.16</td>\n",
       "      <td>High Risk</td>\n",
       "    </tr>\n",
       "    <tr>\n",
       "      <th>36</th>\n",
       "      <td>United States</td>\n",
       "      <td>Greece</td>\n",
       "      <td>3.10</td>\n",
       "      <td>High Risk</td>\n",
       "    </tr>\n",
       "    <tr>\n",
       "      <th>37</th>\n",
       "      <td>Italy</td>\n",
       "      <td>Ireland</td>\n",
       "      <td>2.83</td>\n",
       "      <td>High Risk</td>\n",
       "    </tr>\n",
       "    <tr>\n",
       "      <th>38</th>\n",
       "      <td>Japan</td>\n",
       "      <td>Portugal</td>\n",
       "      <td>2.18</td>\n",
       "      <td>High Risk</td>\n",
       "    </tr>\n",
       "    <tr>\n",
       "      <th>39</th>\n",
       "      <td>Japan</td>\n",
       "      <td>Greece</td>\n",
       "      <td>1.37</td>\n",
       "      <td>High Risk</td>\n",
       "    </tr>\n",
       "    <tr>\n",
       "      <th>40</th>\n",
       "      <td>Italy</td>\n",
       "      <td>Portugal</td>\n",
       "      <td>0.87</td>\n",
       "      <td>High Risk</td>\n",
       "    </tr>\n",
       "    <tr>\n",
       "      <th>41</th>\n",
       "      <td>Spain</td>\n",
       "      <td>Greece</td>\n",
       "      <td>0.78</td>\n",
       "      <td>High Risk</td>\n",
       "    </tr>\n",
       "    <tr>\n",
       "      <th>42</th>\n",
       "      <td>Britain</td>\n",
       "      <td>Greece</td>\n",
       "      <td>0.55</td>\n",
       "      <td>High Risk</td>\n",
       "    </tr>\n",
       "    <tr>\n",
       "      <th>43</th>\n",
       "      <td>Portugal</td>\n",
       "      <td>United States</td>\n",
       "      <td>0.52</td>\n",
       "      <td>Stable</td>\n",
       "    </tr>\n",
       "    <tr>\n",
       "      <th>44</th>\n",
       "      <td>Ireland</td>\n",
       "      <td>Greece</td>\n",
       "      <td>0.34</td>\n",
       "      <td>High Risk</td>\n",
       "    </tr>\n",
       "  </tbody>\n",
       "</table>\n",
       "</div>"
      ],
      "text/plain": [
       "         Creditor         Debtor  Amount         Risk\n",
       "0           Japan  United States  796.00       Stable\n",
       "1          France          Italy  366.00    High Risk\n",
       "2         Britain  United States  345.00       Stable\n",
       "3           Spain        Britain  326.00       Stable\n",
       "4         Germany  United States  324.00       Stable\n",
       "5          France  United States  322.00       Stable\n",
       "6         Germany        Britain  321.00       Stable\n",
       "7           Spain  United States  163.00       Stable\n",
       "8          France          Spain  118.00  Medium Risk\n",
       "9           Italy        Germany  111.00       Stable\n",
       "10          Japan        Germany   88.50       Stable\n",
       "11          Spain       Portugal   62.00    High Risk\n",
       "12        Germany          Spain   57.60  Medium Risk\n",
       "13         France         Greece   53.90    High Risk\n",
       "14         France        Germany   53.80       Stable\n",
       "15        Germany        Ireland   48.90    High Risk\n",
       "16          Japan          Italy   38.80    High Risk\n",
       "17        Germany       Portugal   32.50    High Risk\n",
       "18          Japan        Britain   28.20       Stable\n",
       "19        Britain          Italy   26.00    High Risk\n",
       "20          Japan          Spain   25.90  Medium Risk\n",
       "21        Britain         France   22.40     Low Risk\n",
       "22        Britain       Portugal   19.40    High Risk\n",
       "23        Germany         Greece   19.30    High Risk\n",
       "24          Japan        Ireland   18.90    High Risk\n",
       "25         France       Portugal   18.30    High Risk\n",
       "26         France        Ireland   17.30    High Risk\n",
       "27        Ireland        Britain   12.00       Stable\n",
       "28  United States        Ireland   11.10    High Risk\n",
       "29       Portugal         Greece   10.10    High Risk\n",
       "30          Spain          Italy    9.79    High Risk\n",
       "31         France          Japan    7.73       Stable\n",
       "32        Ireland          Spain    6.38  Medium Risk\n",
       "33       Portugal        Ireland    3.77    High Risk\n",
       "34          Italy         Greece    3.22    High Risk\n",
       "35  United States          Italy    3.16    High Risk\n",
       "36  United States         Greece    3.10    High Risk\n",
       "37          Italy        Ireland    2.83    High Risk\n",
       "38          Japan       Portugal    2.18    High Risk\n",
       "39          Japan         Greece    1.37    High Risk\n",
       "40          Italy       Portugal    0.87    High Risk\n",
       "41          Spain         Greece    0.78    High Risk\n",
       "42        Britain         Greece    0.55    High Risk\n",
       "43       Portugal  United States    0.52       Stable\n",
       "44        Ireland         Greece    0.34    High Risk"
      ]
     },
     "execution_count": 3,
     "metadata": {},
     "output_type": "execute_result"
    }
   ],
   "source": [
    "df"
   ]
  },
  {
   "cell_type": "code",
   "execution_count": 4,
   "id": "47fe6222",
   "metadata": {},
   "outputs": [
    {
     "data": {
      "text/plain": [
       "Index(['Creditor', 'Debtor', 'Amount', 'Risk'], dtype='object')"
      ]
     },
     "execution_count": 4,
     "metadata": {},
     "output_type": "execute_result"
    }
   ],
   "source": [
    "df.columns"
   ]
  },
  {
   "cell_type": "code",
   "execution_count": 5,
   "id": "ece8b194",
   "metadata": {},
   "outputs": [
    {
     "name": "stdout",
     "output_type": "stream",
     "text": [
      "<class 'pandas.core.frame.DataFrame'>\n",
      "RangeIndex: 45 entries, 0 to 44\n",
      "Data columns (total 4 columns):\n",
      " #   Column    Non-Null Count  Dtype  \n",
      "---  ------    --------------  -----  \n",
      " 0   Creditor  45 non-null     object \n",
      " 1   Debtor    45 non-null     object \n",
      " 2   Amount    45 non-null     float64\n",
      " 3   Risk      45 non-null     object \n",
      "dtypes: float64(1), object(3)\n",
      "memory usage: 1.5+ KB\n"
     ]
    }
   ],
   "source": [
    "df.info()"
   ]
  },
  {
   "cell_type": "code",
   "execution_count": 6,
   "id": "97e65fcf",
   "metadata": {},
   "outputs": [
    {
     "data": {
      "text/plain": [
       "Creditor    0\n",
       "Debtor      0\n",
       "Amount      0\n",
       "Risk        0\n",
       "dtype: int64"
      ]
     },
     "execution_count": 6,
     "metadata": {},
     "output_type": "execute_result"
    }
   ],
   "source": [
    "df.isnull().sum()"
   ]
  },
  {
   "cell_type": "code",
   "execution_count": null,
   "id": "1930fcf3",
   "metadata": {},
   "outputs": [],
   "source": [
    "#task-1 find japan credit and debit amount"
   ]
  },
  {
   "cell_type": "code",
   "execution_count": 207,
   "id": "ced01a00",
   "metadata": {},
   "outputs": [
    {
     "data": {
      "text/plain": [
       "([<matplotlib.patches.Wedge at 0x2583d6b3d00>,\n",
       "  <matplotlib.patches.Wedge at 0x2583d6c0460>],\n",
       " [Text(-1.0996805229269193, 0.026509385039593242, 'JPN_credit_amt'),\n",
       "  Text(1.0996805241679122, -0.0265093335598323, 'JPN_debit_amt')],\n",
       " [Text(-0.5998257397783195, 0.014459664567050858, '99.23'),\n",
       "  Text(0.5998257404552247, -0.014459636487181253, '0.77')])"
      ]
     },
     "execution_count": 207,
     "metadata": {},
     "output_type": "execute_result"
    },
    {
     "data": {
      "image/png": "[encoded data removed]",
      "text/plain": [
       "<Figure size 432x288 with 1 Axes>"
      ]
     },
     "metadata": {},
     "output_type": "display_data"
    }
   ],
   "source": [
    "jp=df.loc[df['Creditor']=='Japan']['Amount'].sum()\n",
    "jp1=df.loc[df['Debtor']=='Japan']['Amount'].sum()\n",
    "d1=[jp,jp1]\n",
    "mylabels=['JPN_credit_amt','JPN_debit_amt']\n",
    "plt.pie(d1,labels=mylabels,autopct='%.2f')"
   ]
  },
  {
   "cell_type": "code",
   "execution_count": null,
   "id": "bec73376",
   "metadata": {},
   "outputs": [],
   "source": [
    "#result---"
   ]
  },
  {
   "cell_type": "code",
   "execution_count": null,
   "id": "5bbe0f1a",
   "metadata": {},
   "outputs": [],
   "source": [
    "#task2--how much money is stable,high risk,low risk,medium risk"
   ]
  },
  {
   "cell_type": "code",
   "execution_count": 209,
   "id": "83fa3951",
   "metadata": {},
   "outputs": [
    {
     "data": {
      "text/plain": [
       "([<matplotlib.patches.Wedge at 0x2583d751580>,\n",
       "  <matplotlib.patches.Wedge at 0x2583d751b80>,\n",
       "  <matplotlib.patches.Wedge at 0x2583d7601c0>,\n",
       "  <matplotlib.patches.Wedge at 0x2583d7608e0>],\n",
       " [Text(-0.7595382044633815, 0.7956768916843964, 'stable'),\n",
       "  Text(0.5999086790138526, -0.9220138702014491, 'high risk'),\n",
       "  Text(1.0323113654758547, -0.37991215393742855, 'low risk'),\n",
       "  Text(1.0846408696150238, -0.18317801167379436, 'medium risk')],\n",
       " [Text(-0.4142935660709353, 0.434005577282398, '74.26'),\n",
       "  Text(0.3272229158257377, -0.5029166564735176, '19.84'),\n",
       "  Text(0.5630789266231934, -0.20722481123859737, '0.57'),\n",
       "  Text(0.5916222925172857, -0.0999152790947969, '5.33')])"
      ]
     },
     "execution_count": 209,
     "metadata": {},
     "output_type": "execute_result"
    },
    {
     "data": {
      "image/png": "[encoded data removed]",
      "text/plain": [
       "<Figure size 432x288 with 1 Axes>"
      ]
     },
     "metadata": {},
     "output_type": "display_data"
    }
   ],
   "source": [
    "\n",
    "x1=df.loc[df['Risk']=='Stable']['Amount'].sum()\n",
    "x2=df.loc[df['Risk']=='High Risk']['Amount'].sum()\n",
    "x3=df.loc[df['Risk']=='Low Risk']['Amount'].sum()\n",
    "x4=df.loc[df['Risk']=='Medium Risk']['Amount'].sum()\n",
    "sales=[x1,x2,x3,x4]\n",
    "mylabels=['stable','high risk','low risk','medium risk']\n",
    "plt.pie(sales,labels=mylabels,autopct='%.2f')"
   ]
  },
  {
   "cell_type": "code",
   "execution_count": null,
   "id": "ea99a39f",
   "metadata": {},
   "outputs": [],
   "source": [
    "#result----"
   ]
  },
  {
   "cell_type": "code",
   "execution_count": 85,
   "id": "a839254c",
   "metadata": {},
   "outputs": [],
   "source": [
    "#task3--how many countries is creditor and how many debtor find in percentage"
   ]
  },
  {
   "cell_type": "code",
   "execution_count": 103,
   "id": "cb40a6f1",
   "metadata": {},
   "outputs": [
    {
     "data": {
      "text/plain": [
       "([<matplotlib.patches.Wedge at 0x2583d06a940>,\n",
       "  <matplotlib.patches.Wedge at 0x2583d0790a0>],\n",
       " [Text(0.09083724220568645, 1.0962429454406837, 'Creditor'),\n",
       "  Text(-0.09083713956801406, -1.0962429539454752, 'Debtor')],\n",
       " [Text(0.04954758665764716, 0.5979506975131, '47.37'),\n",
       "  Text(-0.04954753067346221, -0.5979507021520774, '52.63')])"
      ]
     },
     "execution_count": 103,
     "metadata": {},
     "output_type": "execute_result"
    },
    {
     "data": {
      "image/png": "[encoded data removed]",
      "text/plain": [
       "<Figure size 432x288 with 1 Axes>"
      ]
     },
     "metadata": {},
     "output_type": "display_data"
    }
   ],
   "source": [
    "x1=df['Creditor'].nunique()\n",
    "x2=df['Debtor'].nunique()\n",
    "plt.pie(val,labels=mylabels,autopct='%.2f')"
   ]
  },
  {
   "cell_type": "code",
   "execution_count": null,
   "id": "38cf8990",
   "metadata": {},
   "outputs": [],
   "source": [
    "#result--"
   ]
  },
  {
   "cell_type": "code",
   "execution_count": 104,
   "id": "762b4e3a",
   "metadata": {},
   "outputs": [],
   "source": [
    "#task4--how many countries credit amount is more than 100 and how many countries debit amount is less\n",
    "#than100\n"
   ]
  },
  {
   "cell_type": "code",
   "execution_count": 208,
   "id": "dffbfb8b",
   "metadata": {},
   "outputs": [
    {
     "data": {
      "text/plain": [
       "([<matplotlib.patches.Wedge at 0x2583d6fae20>,\n",
       "  <matplotlib.patches.Wedge at 0x2583d709580>],\n",
       " [Text(-0.24477311341532162, 1.0724206837565984, 'total_100+_creditor_country'),\n",
       "  Text(0.24477321382259096, -1.072420660839281, 'total_100-_debtor_country')],\n",
       " [Text(-0.13351260731744813, 0.5849567365945082, '57.14'),\n",
       "  Text(0.13351266208504958, -0.5849567240941532, '42.86')])"
      ]
     },
     "execution_count": 208,
     "metadata": {},
     "output_type": "execute_result"
    },
    {
     "data": {
      "image/png": "[encoded data removed]",
      "text/plain": [
       "<Figure size 432x288 with 1 Axes>"
      ]
     },
     "metadata": {},
     "output_type": "display_data"
    }
   ],
   "source": [
    "tp=df.loc[df['Amount']<100]['Creditor'].value_counts().nunique()\n",
    "tp1=df.loc[df['Amount']>100]['Debtor'].value_counts().nunique()\n",
    "values=[tp,tp1]\n",
    "mylabels=['total_100+_creditor_country','total_100-_debtor_country']\n",
    "plt.pie(values,labels=mylabels,autopct='%.2f')"
   ]
  },
  {
   "cell_type": "code",
   "execution_count": null,
   "id": "ea0218f9",
   "metadata": {},
   "outputs": [],
   "source": [
    "#task5---how much loan given by USA,FRANCE,SPAIN,GERMANY"
   ]
  },
  {
   "cell_type": "code",
   "execution_count": 189,
   "id": "01fd4054",
   "metadata": {},
   "outputs": [
    {
     "data": {
      "text/plain": [
       "([<matplotlib.patches.Wedge at 0x2583d250c40>,\n",
       "  <matplotlib.patches.Wedge at 0x2583d25e3d0>,\n",
       "  <matplotlib.patches.Wedge at 0x2583d25eaf0>,\n",
       "  <matplotlib.patches.Wedge at 0x2583d258250>],\n",
       " [Text(1.0997010591794936, 0.02564333128710835, 'USA'),\n",
       "  Text(0.2602870080575848, 1.0687612799107344, 'FRANCE'),\n",
       "  Text(-1.0710903133563248, -0.25053051836902074, 'SPAIN'),\n",
       "  Text(0.5196053264346717, -0.9695412857329586, 'GERMANY')],\n",
       " [Text(0.5998369413706327, 0.013987271611150006, '0.74'),\n",
       "  Text(0.14197473166777352, 0.5829606981331278, '40.91'),\n",
       "  Text(-0.5842310800125408, -0.13665301001946584, '24.01'),\n",
       "  Text(0.2834210871461845, -0.5288407013088865, '34.34')])"
      ]
     },
     "execution_count": 189,
     "metadata": {},
     "output_type": "execute_result"
    },
    {
     "data": {
      "image/png": "[encoded data removed]",
      "text/plain": [
       "<Figure size 432x288 with 1 Axes>"
      ]
     },
     "metadata": {},
     "output_type": "display_data"
    }
   ],
   "source": [
    "x1=df[df['Creditor']=='United States']['Amount'].sum()\n",
    "x2=df[df['Creditor']=='France']['Amount'].sum()\n",
    "x3=df[df['Creditor']=='Spain']['Amount'].sum()\n",
    "x4=df[df['Creditor']=='Germany']['Amount'].sum()\n",
    "data1=[x1,x2,x3,x4]\n",
    "mylabels=['USA','FRANCE','SPAIN','GERMANY']\n",
    "plt.pie(data1,labels=mylabels,autopct='%.2f')"
   ]
  },
  {
   "cell_type": "code",
   "execution_count": null,
   "id": "75d05cb8",
   "metadata": {},
   "outputs": [],
   "source": [
    "#result----"
   ]
  },
  {
   "cell_type": "code",
   "execution_count": 183,
   "id": "b2fe5c0c",
   "metadata": {},
   "outputs": [],
   "source": [
    "#task6--how munch loan have USA FRANCE,SPAIN,GERMANY"
   ]
  },
  {
   "cell_type": "code",
   "execution_count": 187,
   "id": "4205aa88",
   "metadata": {},
   "outputs": [
    {
     "data": {
      "text/plain": [
       "([<matplotlib.patches.Wedge at 0x2583a8f3d00>,\n",
       "  <matplotlib.patches.Wedge at 0x2583a72b460>,\n",
       "  <matplotlib.patches.Wedge at 0x2583a72bb80>,\n",
       "  <matplotlib.patches.Wedge at 0x2583a7372e0>],\n",
       " [Text(-0.8926145737957599, 0.6428368553897746, 'USA'),\n",
       "  Text(0.3786681519575002, -1.0327683335061604, 'FRANCE'),\n",
       "  Text(0.6645188495959413, -0.8765926639732317, 'SPAIN'),\n",
       "  Text(1.0417380178635267, -0.3532448189822053, 'GERMANY')],\n",
       " [Text(-0.486880676615869, 0.35063828475805886, '80.13'),\n",
       "  Text(0.206546264704091, -0.563328181912451, '0.92'),\n",
       "  Text(0.36246482705233163, -0.47814145307630807, '8.54'),\n",
       "  Text(0.568220737016469, -0.19267899217211196, '10.41')])"
      ]
     },
     "execution_count": 187,
     "metadata": {},
     "output_type": "execute_result"
    },
    {
     "data": {
      "image/png": "[encoded data removed]",
      "text/plain": [
       "<Figure size 432x288 with 1 Axes>"
      ]
     },
     "metadata": {},
     "output_type": "display_data"
    }
   ],
   "source": [
    "p1=df[df['Debtor']=='United States']['Amount'].sum()\n",
    "p2=df[df['Debtor']=='France']['Amount'].sum()\n",
    "p3=df[df['Debtor']=='Spain']['Amount'].sum()\n",
    "p4=df[df['Debtor']=='Germany']['Amount'].sum()\n",
    "data2=[p1,p2,p3,p4]\n",
    "mylabels=['USA','FRANCE','SPAIN','GERMANY']\n",
    "plt.pie(data2,labels=mylabels,autopct='%.2f')"
   ]
  },
  {
   "cell_type": "code",
   "execution_count": 190,
   "id": "5f1b8632",
   "metadata": {},
   "outputs": [],
   "source": [
    "#task7--find output max amount or min amount in this data does not mean amount is stable ,high stable,\n",
    "#middle stable,low stable"
   ]
  },
  {
   "cell_type": "code",
   "execution_count": 204,
   "id": "4718e6f7",
   "metadata": {},
   "outputs": [
    {
     "data": {
      "text/plain": [
       "([<matplotlib.patches.Wedge at 0x2583d5cebe0>,\n",
       "  <matplotlib.patches.Wedge at 0x2583d5d72e0>],\n",
       " [Text(-1.0999990102312627, 0.0014756321502914934, 'max_amt'),\n",
       "  Text(1.099999009979215, -0.0014758200253772009, 'min_amt')],\n",
       " [Text(-0.5999994601261431, 0.00080489026379536, '99.96'),\n",
       "  Text(0.5999994599886626, -0.0008049927411148367, '0.04')])"
      ]
     },
     "execution_count": 204,
     "metadata": {},
     "output_type": "execute_result"
    },
    {
     "data": {
      "image/png": "[encoded data removed]",
      "text/plain": [
       "<Figure size 432x288 with 1 Axes>"
      ]
     },
     "metadata": {},
     "output_type": "display_data"
    }
   ],
   "source": [
    "a1=df.loc[df.Amount.max()==df.Amount]['Amount'].sum()\n",
    "a2=df.loc[df.Amount.min()==df.Amount]['Amount'].sum()\n",
    "data3=[a1,a2]\n",
    "y1=['max_amt','min_amt']\n",
    "plt.pie(data3,labels=y1,autopct='%.2f')"
   ]
  },
  {
   "cell_type": "code",
   "execution_count": null,
   "id": "0908d9e9",
   "metadata": {},
   "outputs": [],
   "source": [
    "# summary--"
   ]
  }
 ],
 "metadata": {
  "kernelspec": {
   "display_name": "Python 3 (ipykernel)",
   "language": "python",
   "name": "python3"
  },
  "language_info": {
   "codemirror_mode": {
    "name": "ipython",
    "version": 3
   },
   "file_extension": ".py",
   "mimetype": "text/x-python",
   "name": "python",
   "nbconvert_exporter": "python",
   "pygments_lexer": "ipython3",
   "version": "3.9.12"
  }
 },
 "nbformat": 4,
 "nbformat_minor": 5
}
